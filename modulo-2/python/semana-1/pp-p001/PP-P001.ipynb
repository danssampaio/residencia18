{
 "cells": [
  {
   "cell_type": "markdown",
   "metadata": {},
   "source": [
    "# INSTRUÇÃO PRÁTICA - PP-P001"
   ]
  },
  {
   "cell_type": "markdown",
   "metadata": {},
   "source": [
    "__Exercício 2: Manipulação de variáveis de tipo inteiro, explorando as características e os limites.__\n",
    "* Durante a aula foi apresentado o tipo de dado que permite representar um subconjunto dos números inteiros, as instaâncias da classe `int`. Sobre estes tipos de dados:\n",
    "    * Demonstre como funcionam os operadores aritméticos e aritméticos compostos em Python e destaque as principais novidades e diferenças em relação ao conjunto de operadores com inteiros disponíveis em __C/C++__;\n",
    "    * Demonstre a possibilidade de representar números inteiros significativamente grandes calculando o fatorial de 30 e comparando o resultado com o maior valor inteiro que pode ser representado em __C/C++__;\n",
    "    * As variáveis numéricas são imutáveis. Demonstre com exemplos as implicações desta afirmação;\n",
    "    * Verifique quais métodos estão disponíveis para as variáveis inteiras;"
   ]
  },
  {
   "cell_type": "code",
   "execution_count": null,
   "metadata": {},
   "outputs": [],
   "source": [
    "a = 10\n",
    "b = 3"
   ]
  },
  {
   "cell_type": "markdown",
   "metadata": {},
   "source": [
    "Os operadores aritiméticos são semelhantes ao C++;"
   ]
  },
  {
   "cell_type": "code",
   "execution_count": null,
   "metadata": {},
   "outputs": [],
   "source": [
    "soma = a + b\n",
    "subtracao = a - b\n",
    "multiplicacao = a * b\n",
    "divisao = a / b\n",
    "resto = a % b\n",
    "\n",
    "print(\"Soma = \", soma)\n",
    "print(\"Subtração = \", subtracao)\n",
    "print(\"Multiplicação = \", multiplicacao)\n",
    "print(\"Divisão = \", divisao)\n",
    "print(\"Resto = \", resto)"
   ]
  },
  {
   "cell_type": "markdown",
   "metadata": {},
   "source": [
    "Uma das diferençãs é a divisão inteira, que se utiliza //;"
   ]
  },
  {
   "cell_type": "code",
   "execution_count": null,
   "metadata": {},
   "outputs": [],
   "source": [
    "divisao_inteira = a // b\n",
    "\n",
    "print(\"Divisão Inteira = \", divisao_inteira)"
   ]
  },
  {
   "cell_type": "markdown",
   "metadata": {},
   "source": [
    "Python suporta os operadores aritméticos compostos;"
   ]
  },
  {
   "cell_type": "code",
   "execution_count": null,
   "metadata": {},
   "outputs": [],
   "source": [
    "somaA = 5\n",
    "subtracaoA = 5\n",
    "divisaoA = 10\n",
    "multiplicacaoA = 2\n",
    "\n",
    "somaA += 5\n",
    "subtracaoA -= 3\n",
    "divisaoA /= 2\n",
    "multiplicacaoA *= 5\n",
    "\n",
    "print(\"Soma Aritmética = \", somaA)\n",
    "print(\"Subtração Aritmética = \", subtracaoA)\n",
    "print(\"Divisão Aritmética = \", divisaoA)\n",
    "print(\"Multiplicação Aritmética = \", multiplicacaoA)"
   ]
  },
  {
   "cell_type": "markdown",
   "metadata": {},
   "source": [
    "Em Python, o valor máximo de int é ilimitado devido à precisão arbitrária. Como exemplo, segue o fatorial de 30 em python, comparado ao maior valor int em c/c++;"
   ]
  },
  {
   "cell_type": "code",
   "execution_count": null,
   "metadata": {},
   "outputs": [],
   "source": [
    "import ctypes\n",
    "import math\n",
    "\n",
    "fatorial = math.factorial(30)\n",
    "maiorIntC = ctypes.c_ulong(-1).value\n",
    "\n",
    "print(\"Fatorial de 30 = \", fatorial)\n",
    "print(\"Maior valor inteiro C++ = \", maiorIntC)"
   ]
  },
  {
   "cell_type": "markdown",
   "metadata": {},
   "source": [
    "As váriaveis numéricas são imutáveis, como exemplo, tentaremos modificar o valor de uma váriável. "
   ]
  },
  {
   "cell_type": "code",
   "execution_count": null,
   "metadata": {},
   "outputs": [],
   "source": [
    "num = 5\n",
    "firstId = id(num)\n",
    "num += 3 \n",
    "secondId = id(num)\n",
    "\n",
    "print(firstId)\n",
    "print(secondId)\n",
    "\n",
    "#Ao tentar, o id da variável muda, assim sendo um novo objeto"
   ]
  },
  {
   "cell_type": "markdown",
   "metadata": {},
   "source": [
    "Para verificarmos quais métodos estão disponíveis para as variáveis inteiras, utilizamos o comando print(dir(var))"
   ]
  },
  {
   "cell_type": "code",
   "execution_count": null,
   "metadata": {},
   "outputs": [],
   "source": [
    "num = 5\n",
    "print(dir(num))"
   ]
  },
  {
   "cell_type": "markdown",
   "metadata": {},
   "source": [
    "__Exercício 3: Manipulação de variáveis de tipo caractere e explorando o uso de print.__\n",
    "* Os caracteres numéricos aparecem na tabela ASCII, e em outras, numa sequência que começa pelo caractere ‘0’ até o caractere ‘9’. As strings em __Python__ são formadas por conjuntos de caracteres que podem ser tratadas também como valores numéricos. Com base nestas afirmações desenvolva um programa em __Python__ que:\n",
    "\t* Imprima na tela, utilizando cout, cada um dos caracteres numéricos e seu correspondente código numérico. Pesquise como modificar o comportamento do print para imprimir um objeto de tipo char como caractere e como número.\n",
    "\tExemplo:\n",
    "\t```\n",
    "\t‘0’ - 48\n",
    "\t‘1’ - 49\n",
    "\t…\n",
    "\t‘9’ - 57\n",
    "\t```\n",
    "\t* Modifique o exercício anterior para que a saída imprima também o código numérico em octal e em hexadecimal.\n",
    "\t* Acrescente ao código do exercício anterior a possibilidade de ler um caractere qualquer e imprima no mesmo formato do inciso anterior. Pesquise como ler um valor da entrada padrão.\n",
    "\t* Pesquise como trabalha __Python__ os caracteres especiais,‘ç’ e ‘ã’ por exemplo. Acrescente no código do exercício anterior um exemplo que demonstra como usar este recurso.     "
   ]
  },
  {
   "cell_type": "markdown",
   "metadata": {},
   "source": [
    "Utilizando o for podemos imprimir os valores de cada char:"
   ]
  },
  {
   "cell_type": "code",
   "execution_count": null,
   "metadata": {},
   "outputs": [],
   "source": [
    "for i in range(10):\n",
    "    char = str(i)\n",
    "    print(f\"'{char}' : {ord(char)}\")"
   ]
  },
  {
   "cell_type": "markdown",
   "metadata": {},
   "source": [
    "Utilizando o proprio python fornece métodos para mostrar valores octais e hexadecimais:"
   ]
  },
  {
   "cell_type": "code",
   "execution_count": null,
   "metadata": {},
   "outputs": [],
   "source": [
    "for i in range(10):\n",
    "    char = str(i)\n",
    "    print(f\"'{char}' : {ord(char)} | octal: {oct(ord(char))} | hexadecimal: {hex(ord(char))}\")"
   ]
  },
  {
   "cell_type": "markdown",
   "metadata": {},
   "source": [
    "Utilizando a entrada do usuário para informar os valores:"
   ]
  },
  {
   "cell_type": "code",
   "execution_count": null,
   "metadata": {},
   "outputs": [],
   "source": [
    "input_char = input(\"Digite um caractere: \")\n",
    "char = str(input_char)\n",
    "print(f\"'{char}' : {ord(char)} | octal: {oct(ord(char))} | hexadecimal: {hex(ord(char))}\")"
   ]
  },
  {
   "cell_type": "markdown",
   "metadata": {},
   "source": [
    "O python trabalha muito bem com caracteres acentuados, por exemplo:"
   ]
  },
  {
   "cell_type": "code",
   "execution_count": null,
   "metadata": {},
   "outputs": [],
   "source": [
    "charA = 'ç'\n",
    "charB = 'â'\n",
    "\n",
    "print(charA)\n",
    "print(charB)"
   ]
  },
  {
   "cell_type": "markdown",
   "metadata": {},
   "source": [
    "Para caracteres especiais como aspas por exemplo, pode-se utilizar \\ para imprimir tais caracteres:"
   ]
  },
  {
   "cell_type": "code",
   "execution_count": null,
   "metadata": {},
   "outputs": [],
   "source": [
    "stringA = '\\\"frase entre aspas duplas\\\"'\n",
    "stringB = '\\'frase entre aspas simples\\''\n",
    "\n",
    "print(stringA)\n",
    "print(stringB)"
   ]
  },
  {
   "cell_type": "markdown",
   "metadata": {},
   "source": [
    "__Exercício 4: Manipulação de variáveis de tipo string e explorando os métodos da classe.__\n",
    "* As variáveis de tipo string possuem uma série de funcionalidades já implementadas e seus caracteres e substrings  podem ser acessados usando indexação e _slicing_. Crie um exemplo onde:\n",
    "    * Declare uma variável `nome` atribuindo a ela seu nome completo;\n",
    "    * Pesquise por funcionalidades já implementadas nas strings e separe em duas variáveis novas seu nome do seu sobrenome;\n",
    "    * Verifique qual das duas novas variáveis antecede a outra na ordem alfabética;\n",
    "    * Verifique a quantidade de caracteres de cada uma das novas variáveis;\n",
    "    * Verifique se seu nome é uma palíndromo;"
   ]
  },
  {
   "cell_type": "markdown",
   "metadata": {},
   "source": [
    "Podemos usar o método .split(maxsplit=1) para separar em strings de nome e sobrenome"
   ]
  },
  {
   "cell_type": "code",
   "execution_count": null,
   "metadata": {},
   "outputs": [],
   "source": [
    "nome = input(\"Digite seu nome: \")\n",
    "nome, sobrenome = nome.split(maxsplit=1)\n",
    "print(nome)\n",
    "print(sobrenome)\n"
   ]
  },
  {
   "cell_type": "markdown",
   "metadata": {},
   "source": [
    "Podemos usar dentro do método o separador que quiseremos"
   ]
  },
  {
   "cell_type": "code",
   "execution_count": null,
   "metadata": {},
   "outputs": [],
   "source": [
    "nome = input(\"Digite dois nomes com (,) para separar: \")\n",
    "nome1, nome2 = nome.split(',')\n",
    "\n",
    "print(nome1)\n",
    "print(nome2)\n"
   ]
  },
  {
   "cell_type": "markdown",
   "metadata": {},
   "source": [
    "Podemos usar os próprios operadores para verificar quais antecedem em ordêm alfabética"
   ]
  },
  {
   "cell_type": "code",
   "execution_count": null,
   "metadata": {},
   "outputs": [],
   "source": [
    "nome = input(\"Digite seu nome: \")\n",
    "nome, sobrenome = nome.split(maxsplit=1)\n",
    "\n",
    "if nome < sobrenome:\n",
    "    print(f\"{nome} antecede {sobrenome} na ordem alfabética.\")\n",
    "else:\n",
    "    print(f\"{sobrenome} antecede {nome} na ordem alfabética.\")\n"
   ]
  },
  {
   "cell_type": "markdown",
   "metadata": {},
   "source": [
    "Utilizamos o método len() para verificarmos o tamanho da string"
   ]
  },
  {
   "cell_type": "code",
   "execution_count": null,
   "metadata": {},
   "outputs": [],
   "source": [
    "nome = input(\"Digite seu nome: \")\n",
    "nome, sobrenome = nome.split(maxsplit=1)\n",
    "\n",
    "print(f\"Quantidade de caracteres em nome: {len(nome)}\")\n",
    "print(f\"Quantidade de caracteres em sobrenome: {len(sobrenome)}\")\n"
   ]
  },
  {
   "cell_type": "markdown",
   "metadata": {},
   "source": [
    "Para verificar se as strings são palindromos, podemos utilizar um método para igualar o modo de escrita das strings, e após isso invertemos as strings utilizando [::-1]"
   ]
  },
  {
   "cell_type": "code",
   "execution_count": null,
   "metadata": {},
   "outputs": [],
   "source": [
    "nome = input(\"Digite seu nome: \")\n",
    "nome, sobrenome = nome.split(maxsplit=1)\n",
    "\n",
    "if nome.lower() == nome[::-1].lower() and sobrenome.lower() == sobrenome[::-1].lower():\n",
    "    print(\"Seu nome e sobrenome são palíndromos!\")\n",
    "elif nome.lower() == nome[::-1].lower() and sobrenome.lower() != sobrenome[::-1].lower():\n",
    "    print(\"Somente seu nome é palíndromo!\")\n",
    "elif nome.lower() != nome[::-1].lower() and sobrenome.lower() == sobrenome[::-1].lower():\n",
    "    print(\"Somente seu sobrenome é palíndromo!\")\n",
    "else:\n",
    "    print(\"Seu nome e sobrenome não são palindromos!\")\n"
   ]
  },
  {
   "cell_type": "markdown",
   "metadata": {},
   "source": [
    "__Exercício 5: Manipulação de variáveis de ponto flutuante, explorando as características e os limites.__\n",
    "* Durante a aula foi apresentado o tipo de dado que permite representar um subconjunto dos números de ponto flutuante, as instâncias da classe `float`. Sobre estes tipos de dados:\n",
    "    * Demonstre como funcionam os operadores aritméticos e aritméticos compostos em Python;\n",
    "    * Utilizando o operador de exponenciação mostre qual a maior e a menor potência de 2 que pode ser representada com variáveis de ponto flutuante. \n",
    "    * As variáveis numéricas são imutáveis. Demonstre com exemplos as implicações desta afirmação;\n",
    "    * Verifique quais métodos estão disponíveis para as variáveis de ponto flutuante;"
   ]
  },
  {
   "cell_type": "code",
   "execution_count": null,
   "metadata": {},
   "outputs": [],
   "source": [
    "a = 10.0\n",
    "b = 3.0"
   ]
  },
  {
   "cell_type": "markdown",
   "metadata": {},
   "source": [
    "Os operadores aritiméticos são semelhantes ao C++:"
   ]
  },
  {
   "cell_type": "code",
   "execution_count": null,
   "metadata": {},
   "outputs": [],
   "source": [
    "somaF = a + b\n",
    "subtracaoF = a - b\n",
    "multiplicacaoF = a * b\n",
    "divisaoF = a / b\n",
    "restoF = a % b\n",
    "\n",
    "print(\"Soma = \", somaF)\n",
    "print(\"Subtração = \", subtracaoF)\n",
    "print(\"Multiplicação = \", multiplicacaoF)\n",
    "print(\"Divisão = \", divisaoF)\n",
    "print(\"Resto = \", restoF)"
   ]
  },
  {
   "cell_type": "markdown",
   "metadata": {},
   "source": [
    "Python também suporta operadores aritiméticos compostos para variáveis de ponto flutuante:"
   ]
  },
  {
   "cell_type": "code",
   "execution_count": null,
   "metadata": {},
   "outputs": [],
   "source": [
    "somaAF = 5.0\n",
    "subtracaoAF = 5.0\n",
    "divisaoAF = 10.0\n",
    "multiplicacaoAF = 2.0\n",
    "\n",
    "somaAF += 5\n",
    "subtracaoAF -= 3\n",
    "divisaoAF /= 2\n",
    "multiplicacaoAF *= 5\n",
    "\n",
    "print(\"Soma Aritmética = \", somaAF)\n",
    "print(\"Subtração Aritmética = \", subtracaoAF)\n",
    "print(\"Divisão Aritmética = \", divisaoAF)\n",
    "print(\"Multiplicação Aritmética = \", multiplicacaoAF)"
   ]
  },
  {
   "cell_type": "markdown",
   "metadata": {},
   "source": [
    "Em relação às variáveis imutaveis, funcionam da mesma forma, criando um novo endereço:"
   ]
  },
  {
   "cell_type": "code",
   "execution_count": null,
   "metadata": {},
   "outputs": [],
   "source": [
    "numF = 3.14\n",
    "firstId = id(numF)\n",
    "numF = numF + 3.0\n",
    "secondId = id(numF)\n",
    "\n",
    "print(firstId)\n",
    "print(secondId)\n",
    "\n",
    "#Ao tentar, o id da variável muda, assim sendo um novo objeto"
   ]
  },
  {
   "cell_type": "markdown",
   "metadata": {},
   "source": [
    "Para verificarmos quais métodos estão disponíveis para as variáveis inteiras, utilizamos o comando print(dir(var))"
   ]
  },
  {
   "cell_type": "code",
   "execution_count": null,
   "metadata": {},
   "outputs": [],
   "source": [
    "numF = 5.0\n",
    "print(dir(numF))"
   ]
  },
  {
   "cell_type": "markdown",
   "metadata": {},
   "source": [
    "__Exercício 6: Manipulando listas__\n",
    "* Dado o seguinte código, e antes de implementar, veja o que será impresso em cada caso:\n",
    "\n",
    "<img align=\"center\" style=\"padding-right:10px;\" src=\"Figuras/PP-P001_fig_01.png\">\n",
    " \n",
    "* Uma forma simplificada de determinar o seu animal no zodíaco chines é apresentada na seguinte tabela:\n",
    "\n",
    "<img align=\"center\" style=\"padding-right:10px;\" src=\"Figuras/PP-P001_fig_02.png\">\n",
    "\n",
    "Descubra qual o signo de um usuário de acordo com seu ano de nascimento.\n",
    "\n"
   ]
  },
  {
   "cell_type": "markdown",
   "metadata": {},
   "source": [
    "* L[::-1] -> Inverte a lista\n",
    "* L[-1::] -> Último elemento da lista\n",
    "* L[:-1:] -> Todos os elementos menos o último da lista\n",
    "* L[::-2] -> Inverte a lista alternando de 2 em 2 elementos\n",
    "* L[-2::] -> Dois últimos elementos da lista\n",
    "* L[:-2:] -> Todos os elementos menos os dois últimos da lista\n",
    "      "
   ]
  },
  {
   "cell_type": "code",
   "execution_count": null,
   "metadata": {},
   "outputs": [],
   "source": [
    "L = [1,2,3,4,5,6,7,8,9]\n",
    "print(L[::-1])\n",
    "print(L[-1::])\n",
    "print(L[:-1:])\n",
    "print(L[::-2])\n",
    "print(L[-2::])\n",
    "print(L[:-2:])\n",
    "      "
   ]
  },
  {
   "cell_type": "markdown",
   "metadata": {},
   "source": [
    "Para descobrir signo podemos fazer:"
   ]
  },
  {
   "cell_type": "code",
   "execution_count": null,
   "metadata": {},
   "outputs": [],
   "source": [
    "L = [\n",
    "    \"Macaco\",\n",
    "    \"Galo\",\n",
    "    \"Cão\",\n",
    "    \"Porco\",\n",
    "    \"Rato\",\n",
    "    \"Boi\",\n",
    "    \"Tigre\",\n",
    "    \"Coelho\",\n",
    "    \"Dragão\",\n",
    "    \"Serpete\",\n",
    "    \"Cavalo\",\n",
    "    \"Carneiro\",\n",
    "]\n",
    "\n",
    "ano = int(input(\"Digite seu ano de nascimento(YYYY): \"))\n",
    "\n",
    "signo = (\n",
    "    L[0] if ano % 12 == 0 else\n",
    "    L[1] if ano % 12 == 1 else\n",
    "    L[2] if ano % 12 == 2 else\n",
    "    L[3] if ano % 12 == 3 else\n",
    "    L[4] if ano % 12 == 4 else\n",
    "    L[5] if ano % 12 == 5 else\n",
    "    L[6] if ano % 12 == 6 else\n",
    "    L[7] if ano % 12 == 7 else\n",
    "    L[8] if ano % 12 == 8 else\n",
    "    L[9] if ano % 12 == 9 else\n",
    "    L[10] if ano % 12 == 10 else\n",
    "    L[11]\n",
    ")\n",
    "\n",
    "print(f\"Seu signo chinês é {signo}\")\n"
   ]
  },
  {
   "cell_type": "code",
   "execution_count": null,
   "metadata": {},
   "outputs": [],
   "source": []
  }
 ],
 "metadata": {
  "kernelspec": {
   "display_name": "Python 3 (ipykernel)",
   "language": "python",
   "name": "python3"
  },
  "language_info": {
   "codemirror_mode": {
    "name": "ipython",
    "version": 3
   },
   "file_extension": ".py",
   "mimetype": "text/x-python",
   "name": "python",
   "nbconvert_exporter": "python",
   "pygments_lexer": "ipython3",
   "version": "3.11.4"
  }
 },
 "nbformat": 4,
 "nbformat_minor": 4
}
